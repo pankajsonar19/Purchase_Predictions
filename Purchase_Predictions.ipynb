{
 "cells": [
  {
   "cell_type": "markdown",
   "metadata": {},
   "source": [
    "# Develope a Model to predict if there will be Purchase or not\n",
    "\n",
    "My task here is to recommend the marketing team a better set of possible customers to focus on who have higher chance of purchasing based on given features. Inorder to achieve that, I need to train my ML algorithm on given dataset and train a model based on mapping of input features and target output, which in my case is given set of input feature vectors does a client does a purchase or Not.\n",
    "\n",
    "One thing needs to be clear before I proceed ahead is that my problem statement is a Classification problem, where given training sample I will tune my model to test on unknown samples.\n",
    "\n",
    "I will be breaking the entire working into following stages:\n",
    "\n",
    "1] Read Dataset\n",
    "\n",
    "2] Check Balanced or Imbalanced data (based on target labels)\n",
    "\n",
    "3] Treat the Imbalanced Data (Doing Re-Sampeling)\n",
    "\n",
    "4] Pre-Processing: \n",
    "   - Repair my dataset for any breakdowns or missing values in dataset\n",
    "   - Convert categorical features to numeric\n",
    "\n",
    "5] Spliting the new processed data in to Train-Test data\n",
    "\n",
    "6] Decide on an ML algos for training our Model\n",
    "\n",
    "    6.1] Testing the models\n",
    "    6.2] Evaluating the models\n",
    "\n",
    "7] Plotting the Evaluation Metric of different ML algos\n",
    "\n",
    "Lets start by importing packages and libraries for graph display, I use %inline to show graph in same notebook window"
   ]
  },
  {
   "cell_type": "markdown",
   "metadata": {},
   "source": [
    "## Imports"
   ]
  },
  {
   "cell_type": "code",
   "execution_count": 1,
   "metadata": {
    "collapsed": true
   },
   "outputs": [],
   "source": [
    "import numpy as np\n",
    "import sklearn\n",
    "import pandas as pd\n",
    "\n",
    "from sklearn.metrics import accuracy_score,classification_report\n",
    "\n",
    "#import pylab as plb\n",
    "import matplotlib.pyplot as plt\n",
    "%matplotlib inline\n",
    "plt.style.use('ggplot')\n",
    "import seaborn as sns\n"
   ]
  },
  {
   "cell_type": "markdown",
   "metadata": {},
   "source": [
    "## Read Dataset"
   ]
  },
  {
   "cell_type": "code",
   "execution_count": 2,
   "metadata": {},
   "outputs": [
    {
     "data": {
      "text/html": [
       "<div>\n",
       "<style scoped>\n",
       "    .dataframe tbody tr th:only-of-type {\n",
       "        vertical-align: middle;\n",
       "    }\n",
       "\n",
       "    .dataframe tbody tr th {\n",
       "        vertical-align: top;\n",
       "    }\n",
       "\n",
       "    .dataframe thead th {\n",
       "        text-align: right;\n",
       "    }\n",
       "</style>\n",
       "<table border=\"1\" class=\"dataframe\">\n",
       "  <thead>\n",
       "    <tr style=\"text-align: right;\">\n",
       "      <th></th>\n",
       "      <th>x1</th>\n",
       "      <th>x2</th>\n",
       "      <th>x3</th>\n",
       "      <th>x4</th>\n",
       "      <th>x5</th>\n",
       "      <th>x6</th>\n",
       "      <th>x7</th>\n",
       "      <th>x8</th>\n",
       "      <th>x9</th>\n",
       "      <th>x10</th>\n",
       "      <th>x11</th>\n",
       "      <th>x12</th>\n",
       "      <th>x13</th>\n",
       "      <th>x14</th>\n",
       "      <th>x15</th>\n",
       "      <th>Purchase</th>\n",
       "    </tr>\n",
       "  </thead>\n",
       "  <tbody>\n",
       "    <tr>\n",
       "      <th>0</th>\n",
       "      <td>10</td>\n",
       "      <td>21</td>\n",
       "      <td>28</td>\n",
       "      <td>E</td>\n",
       "      <td>19.98</td>\n",
       "      <td>5</td>\n",
       "      <td>189.88</td>\n",
       "      <td>9</td>\n",
       "      <td>2305</td>\n",
       "      <td>10</td>\n",
       "      <td>500.0</td>\n",
       "      <td>3</td>\n",
       "      <td>31</td>\n",
       "      <td>1000.0</td>\n",
       "      <td>A</td>\n",
       "      <td>0</td>\n",
       "    </tr>\n",
       "    <tr>\n",
       "      <th>1</th>\n",
       "      <td>10</td>\n",
       "      <td>22</td>\n",
       "      <td>46</td>\n",
       "      <td>D</td>\n",
       "      <td>15.98</td>\n",
       "      <td>6</td>\n",
       "      <td>68.95</td>\n",
       "      <td>29</td>\n",
       "      <td>609</td>\n",
       "      <td>10</td>\n",
       "      <td>250.0</td>\n",
       "      <td>8</td>\n",
       "      <td>16</td>\n",
       "      <td>100.0</td>\n",
       "      <td>B</td>\n",
       "      <td>0</td>\n",
       "    </tr>\n",
       "    <tr>\n",
       "      <th>2</th>\n",
       "      <td>10</td>\n",
       "      <td>23</td>\n",
       "      <td>38</td>\n",
       "      <td>E</td>\n",
       "      <td>12.29</td>\n",
       "      <td>3</td>\n",
       "      <td>36.00</td>\n",
       "      <td>3</td>\n",
       "      <td>648</td>\n",
       "      <td>U</td>\n",
       "      <td>200.0</td>\n",
       "      <td>4</td>\n",
       "      <td>2</td>\n",
       "      <td>250.0</td>\n",
       "      <td>A</td>\n",
       "      <td>0</td>\n",
       "    </tr>\n",
       "    <tr>\n",
       "      <th>3</th>\n",
       "      <td>5</td>\n",
       "      <td>20</td>\n",
       "      <td>25</td>\n",
       "      <td>E</td>\n",
       "      <td>21.48</td>\n",
       "      <td>2</td>\n",
       "      <td>26.45</td>\n",
       "      <td>1</td>\n",
       "      <td>3250</td>\n",
       "      <td>U</td>\n",
       "      <td>200.0</td>\n",
       "      <td>14</td>\n",
       "      <td>13</td>\n",
       "      <td>500.0</td>\n",
       "      <td>B</td>\n",
       "      <td>0</td>\n",
       "    </tr>\n",
       "    <tr>\n",
       "      <th>4</th>\n",
       "      <td>10</td>\n",
       "      <td>17</td>\n",
       "      <td>33</td>\n",
       "      <td>E</td>\n",
       "      <td>15.96</td>\n",
       "      <td>7</td>\n",
       "      <td>13.95</td>\n",
       "      <td>29</td>\n",
       "      <td>873</td>\n",
       "      <td>U</td>\n",
       "      <td>200.0</td>\n",
       "      <td>14</td>\n",
       "      <td>10</td>\n",
       "      <td>500.0</td>\n",
       "      <td>A</td>\n",
       "      <td>0</td>\n",
       "    </tr>\n",
       "  </tbody>\n",
       "</table>\n",
       "</div>"
      ],
      "text/plain": [
       "   x1  x2  x3 x4     x5  x6      x7  x8    x9 x10    x11  x12  x13     x14  \\\n",
       "0  10  21  28  E  19.98   5  189.88   9  2305  10  500.0    3   31  1000.0   \n",
       "1  10  22  46  D  15.98   6   68.95  29   609  10  250.0    8   16   100.0   \n",
       "2  10  23  38  E  12.29   3   36.00   3   648   U  200.0    4    2   250.0   \n",
       "3   5  20  25  E  21.48   2   26.45   1  3250   U  200.0   14   13   500.0   \n",
       "4  10  17  33  E  15.96   7   13.95  29   873   U  200.0   14   10   500.0   \n",
       "\n",
       "  x15  Purchase  \n",
       "0   A         0  \n",
       "1   B         0  \n",
       "2   A         0  \n",
       "3   B         0  \n",
       "4   A         0  "
      ]
     },
     "execution_count": 2,
     "metadata": {},
     "output_type": "execute_result"
    }
   ],
   "source": [
    "\n",
    "df = pd.read_csv('DataScienceChallenge.csv',sep=',')\n",
    "df.head()"
   ]
  },
  {
   "cell_type": "markdown",
   "metadata": {},
   "source": [
    "- The above dataset contains some numerical features whereas some categorical features and a target label as 'Purchase' which has values 0 or 1. \n",
    "\n",
    "- Let's first check if the data is balanced or not"
   ]
  },
  {
   "cell_type": "code",
   "execution_count": 3,
   "metadata": {
    "scrolled": true
   },
   "outputs": [
    {
     "name": "stderr",
     "output_type": "stream",
     "text": [
      "C:\\Users\\pnkjs\\Anaconda3\\lib\\site-packages\\seaborn\\categorical.py:1428: FutureWarning: remove_na is deprecated and is a private function. Do not use.\n",
      "  stat_data = remove_na(group_data)\n"
     ]
    },
    {
     "data": {
      "text/plain": [
       "<matplotlib.axes._subplots.AxesSubplot at 0x20a7582d358>"
      ]
     },
     "execution_count": 3,
     "metadata": {},
     "output_type": "execute_result"
    },
    {
     "data": {
      "image/png": "[encoded data removed]",
      "text/plain": [
       "<Figure size 720x360 with 1 Axes>"
      ]
     },
     "metadata": {},
     "output_type": "display_data"
    }
   ],
   "source": [
    "# set seaborn graph size\n",
    "sns.set(rc={'figure.figsize':(10,5)})\n",
    "\n",
    "#plot the graph\n",
    "sns.countplot(x='Purchase',data=df)"
   ]
  },
  {
   "cell_type": "markdown",
   "metadata": {},
   "source": [
    "#### Lets consider Purchase == 0 as (Yes purchased) and Purchase == 1 as (Not Purchase)\n",
    "\n",
    "\n",
    "* So the number of records for Purchase are almost <b>90 % </b> of total data and the Not purchase are approx <b>10 % </b>\n",
    "\n",
    "* Hence there is <b>lot of imbalance.</b> Let's confirm it"
   ]
  },
  {
   "cell_type": "code",
   "execution_count": 4,
   "metadata": {},
   "outputs": [
    {
     "data": {
      "text/plain": [
       "(51448, 16)"
      ]
     },
     "execution_count": 4,
     "metadata": {},
     "output_type": "execute_result"
    }
   ],
   "source": [
    "purchased = df[df.Purchase==0]\n",
    "\n",
    "purchased.shape"
   ]
  },
  {
   "cell_type": "code",
   "execution_count": 5,
   "metadata": {},
   "outputs": [
    {
     "data": {
      "text/plain": [
       "(3620, 16)"
      ]
     },
     "execution_count": 5,
     "metadata": {},
     "output_type": "execute_result"
    }
   ],
   "source": [
    "not_purchased = df[df.Purchase==1]\n",
    "\n",
    "not_purchased.shape"
   ]
  },
  {
   "cell_type": "markdown",
   "metadata": {},
   "source": [
    "## Treating the Imbalanced Data\n",
    "\n",
    "I will follow the Data Level Approach to treat the Imbalanced Data by using Re-Sampeling technique (Random Under-Sampeling)\n",
    "\n",
    "<b> Random Under-Sampeling - It aims to balance class distribution by randomly eliminating majority class examples. This is done until the majority and minority class instances are balanced out. </b> [1]\n",
    "\n",
    "- So here I will sample random data from purchased section to balance with non_purchased data"
   ]
  },
  {
   "cell_type": "code",
   "execution_count": 6,
   "metadata": {},
   "outputs": [
    {
     "data": {
      "text/plain": [
       "(5000, 16)"
      ]
     },
     "execution_count": 6,
     "metadata": {},
     "output_type": "execute_result"
    }
   ],
   "source": [
    "purchased1 = purchased.sample(n=5000,random_state=2)\n",
    "purchased1.shape"
   ]
  },
  {
   "cell_type": "code",
   "execution_count": 7,
   "metadata": {
    "collapsed": true
   },
   "outputs": [],
   "source": [
    "balanced_data = not_purchased.append(purchased1,ignore_index=True)"
   ]
  },
  {
   "cell_type": "code",
   "execution_count": 8,
   "metadata": {},
   "outputs": [
    {
     "data": {
      "text/plain": [
       "(8620, 16)"
      ]
     },
     "execution_count": 8,
     "metadata": {},
     "output_type": "execute_result"
    }
   ],
   "source": [
    "balanced_data.shape"
   ]
  },
  {
   "cell_type": "code",
   "execution_count": 9,
   "metadata": {
    "scrolled": true
   },
   "outputs": [
    {
     "name": "stderr",
     "output_type": "stream",
     "text": [
      "C:\\Users\\pnkjs\\Anaconda3\\lib\\site-packages\\seaborn\\categorical.py:1428: FutureWarning: remove_na is deprecated and is a private function. Do not use.\n",
      "  stat_data = remove_na(group_data)\n"
     ]
    },
    {
     "data": {
      "text/plain": [
       "<matplotlib.axes._subplots.AxesSubplot at 0x20a76b870b8>"
      ]
     },
     "execution_count": 9,
     "metadata": {},
     "output_type": "execute_result"
    },
    {
     "data": {
      "image/png": "[encoded data removed]",
      "text/plain": [
       "<Figure size 720x360 with 1 Axes>"
      ]
     },
     "metadata": {},
     "output_type": "display_data"
    }
   ],
   "source": [
    "sns.countplot(x='Purchase',data=balanced_data)"
   ]
  },
  {
   "cell_type": "code",
   "execution_count": 10,
   "metadata": {
    "scrolled": false
   },
   "outputs": [
    {
     "data": {
      "text/html": [
       "<div>\n",
       "<style scoped>\n",
       "    .dataframe tbody tr th:only-of-type {\n",
       "        vertical-align: middle;\n",
       "    }\n",
       "\n",
       "    .dataframe tbody tr th {\n",
       "        vertical-align: top;\n",
       "    }\n",
       "\n",
       "    .dataframe thead th {\n",
       "        text-align: right;\n",
       "    }\n",
       "</style>\n",
       "<table border=\"1\" class=\"dataframe\">\n",
       "  <thead>\n",
       "    <tr style=\"text-align: right;\">\n",
       "      <th></th>\n",
       "      <th>x1</th>\n",
       "      <th>x2</th>\n",
       "      <th>x3</th>\n",
       "      <th>x4</th>\n",
       "      <th>x5</th>\n",
       "      <th>x6</th>\n",
       "      <th>x7</th>\n",
       "      <th>x8</th>\n",
       "      <th>x9</th>\n",
       "      <th>x10</th>\n",
       "      <th>x11</th>\n",
       "      <th>x12</th>\n",
       "      <th>x13</th>\n",
       "      <th>x14</th>\n",
       "      <th>x15</th>\n",
       "      <th>Purchase</th>\n",
       "    </tr>\n",
       "  </thead>\n",
       "  <tbody>\n",
       "    <tr>\n",
       "      <th>0</th>\n",
       "      <td>2</td>\n",
       "      <td>18</td>\n",
       "      <td>49</td>\n",
       "      <td>J</td>\n",
       "      <td>13.89</td>\n",
       "      <td>9</td>\n",
       "      <td>8.45</td>\n",
       "      <td>1</td>\n",
       "      <td>1231</td>\n",
       "      <td>U</td>\n",
       "      <td>250.0</td>\n",
       "      <td>14</td>\n",
       "      <td>5</td>\n",
       "      <td>250.0</td>\n",
       "      <td>A</td>\n",
       "      <td>1</td>\n",
       "    </tr>\n",
       "    <tr>\n",
       "      <th>1</th>\n",
       "      <td>3</td>\n",
       "      <td>18</td>\n",
       "      <td>27</td>\n",
       "      <td>J</td>\n",
       "      <td>14.22</td>\n",
       "      <td>7</td>\n",
       "      <td>23.45</td>\n",
       "      <td>4</td>\n",
       "      <td>832</td>\n",
       "      <td>U</td>\n",
       "      <td>250.0</td>\n",
       "      <td>10</td>\n",
       "      <td>5</td>\n",
       "      <td>500.0</td>\n",
       "      <td>B</td>\n",
       "      <td>1</td>\n",
       "    </tr>\n",
       "    <tr>\n",
       "      <th>2</th>\n",
       "      <td>3</td>\n",
       "      <td>18</td>\n",
       "      <td>27</td>\n",
       "      <td>J</td>\n",
       "      <td>14.22</td>\n",
       "      <td>7</td>\n",
       "      <td>23.45</td>\n",
       "      <td>4</td>\n",
       "      <td>1005</td>\n",
       "      <td>U</td>\n",
       "      <td>250.0</td>\n",
       "      <td>10</td>\n",
       "      <td>5</td>\n",
       "      <td>500.0</td>\n",
       "      <td>B</td>\n",
       "      <td>1</td>\n",
       "    </tr>\n",
       "    <tr>\n",
       "      <th>3</th>\n",
       "      <td>1</td>\n",
       "      <td>17</td>\n",
       "      <td>35</td>\n",
       "      <td>E</td>\n",
       "      <td>19.10</td>\n",
       "      <td>9</td>\n",
       "      <td>13.95</td>\n",
       "      <td>1</td>\n",
       "      <td>1328</td>\n",
       "      <td>14</td>\n",
       "      <td>225.0</td>\n",
       "      <td>14</td>\n",
       "      <td>9</td>\n",
       "      <td>600.0</td>\n",
       "      <td>B</td>\n",
       "      <td>1</td>\n",
       "    </tr>\n",
       "    <tr>\n",
       "      <th>4</th>\n",
       "      <td>2</td>\n",
       "      <td>18</td>\n",
       "      <td>33</td>\n",
       "      <td>K</td>\n",
       "      <td>15.98</td>\n",
       "      <td>4</td>\n",
       "      <td>7.00</td>\n",
       "      <td>1</td>\n",
       "      <td>1229</td>\n",
       "      <td>U</td>\n",
       "      <td>200.0</td>\n",
       "      <td>12</td>\n",
       "      <td>6</td>\n",
       "      <td>0.0</td>\n",
       "      <td>A</td>\n",
       "      <td>1</td>\n",
       "    </tr>\n",
       "  </tbody>\n",
       "</table>\n",
       "</div>"
      ],
      "text/plain": [
       "   x1  x2  x3 x4     x5  x6     x7  x8    x9 x10    x11  x12  x13    x14 x15  \\\n",
       "0   2  18  49  J  13.89   9   8.45   1  1231   U  250.0   14    5  250.0   A   \n",
       "1   3  18  27  J  14.22   7  23.45   4   832   U  250.0   10    5  500.0   B   \n",
       "2   3  18  27  J  14.22   7  23.45   4  1005   U  250.0   10    5  500.0   B   \n",
       "3   1  17  35  E  19.10   9  13.95   1  1328  14  225.0   14    9  600.0   B   \n",
       "4   2  18  33  K  15.98   4   7.00   1  1229   U  200.0   12    6    0.0   A   \n",
       "\n",
       "   Purchase  \n",
       "0         1  \n",
       "1         1  \n",
       "2         1  \n",
       "3         1  \n",
       "4         1  "
      ]
     },
     "execution_count": 10,
     "metadata": {},
     "output_type": "execute_result"
    }
   ],
   "source": [
    "balanced_data.head()"
   ]
  },
  {
   "cell_type": "markdown",
   "metadata": {},
   "source": [
    "## Pre-Processing"
   ]
  },
  {
   "cell_type": "code",
   "execution_count": 11,
   "metadata": {
    "scrolled": false
   },
   "outputs": [
    {
     "data": {
      "text/html": [
       "<div>\n",
       "<style scoped>\n",
       "    .dataframe tbody tr th:only-of-type {\n",
       "        vertical-align: middle;\n",
       "    }\n",
       "\n",
       "    .dataframe tbody tr th {\n",
       "        vertical-align: top;\n",
       "    }\n",
       "\n",
       "    .dataframe thead th {\n",
       "        text-align: right;\n",
       "    }\n",
       "</style>\n",
       "<table border=\"1\" class=\"dataframe\">\n",
       "  <thead>\n",
       "    <tr style=\"text-align: right;\">\n",
       "      <th></th>\n",
       "      <th>x1</th>\n",
       "      <th>x3</th>\n",
       "      <th>x5</th>\n",
       "      <th>x6</th>\n",
       "      <th>x7</th>\n",
       "      <th>x8</th>\n",
       "      <th>x9</th>\n",
       "      <th>x11</th>\n",
       "      <th>x12</th>\n",
       "      <th>x13</th>\n",
       "      <th>x14</th>\n",
       "      <th>Purchase</th>\n",
       "    </tr>\n",
       "  </thead>\n",
       "  <tbody>\n",
       "    <tr>\n",
       "      <th>count</th>\n",
       "      <td>8620.000000</td>\n",
       "      <td>8620.000000</td>\n",
       "      <td>8620.000000</td>\n",
       "      <td>8620.000000</td>\n",
       "      <td>8620.000000</td>\n",
       "      <td>8620.000000</td>\n",
       "      <td>8620.000000</td>\n",
       "      <td>8620.000000</td>\n",
       "      <td>8620.000000</td>\n",
       "      <td>8620.000000</td>\n",
       "      <td>8084.000000</td>\n",
       "      <td>8620.000000</td>\n",
       "    </tr>\n",
       "    <tr>\n",
       "      <th>mean</th>\n",
       "      <td>8.674594</td>\n",
       "      <td>35.962993</td>\n",
       "      <td>17.289042</td>\n",
       "      <td>5.025870</td>\n",
       "      <td>56.953290</td>\n",
       "      <td>10.865081</td>\n",
       "      <td>957.777030</td>\n",
       "      <td>345.323788</td>\n",
       "      <td>9.107425</td>\n",
       "      <td>12.598724</td>\n",
       "      <td>331.438644</td>\n",
       "      <td>0.419954</td>\n",
       "    </tr>\n",
       "    <tr>\n",
       "      <th>std</th>\n",
       "      <td>2.416880</td>\n",
       "      <td>9.381556</td>\n",
       "      <td>4.629677</td>\n",
       "      <td>3.506962</td>\n",
       "      <td>61.449011</td>\n",
       "      <td>11.492276</td>\n",
       "      <td>519.560806</td>\n",
       "      <td>175.495870</td>\n",
       "      <td>4.065774</td>\n",
       "      <td>8.750456</td>\n",
       "      <td>233.765832</td>\n",
       "      <td>0.493580</td>\n",
       "    </tr>\n",
       "    <tr>\n",
       "      <th>min</th>\n",
       "      <td>1.000000</td>\n",
       "      <td>20.000000</td>\n",
       "      <td>6.980000</td>\n",
       "      <td>0.000000</td>\n",
       "      <td>3.000000</td>\n",
       "      <td>0.000000</td>\n",
       "      <td>280.000000</td>\n",
       "      <td>0.000000</td>\n",
       "      <td>0.000000</td>\n",
       "      <td>1.000000</td>\n",
       "      <td>0.000000</td>\n",
       "      <td>0.000000</td>\n",
       "    </tr>\n",
       "    <tr>\n",
       "      <th>25%</th>\n",
       "      <td>8.000000</td>\n",
       "      <td>29.000000</td>\n",
       "      <td>13.960000</td>\n",
       "      <td>2.000000</td>\n",
       "      <td>15.450000</td>\n",
       "      <td>1.000000</td>\n",
       "      <td>580.000000</td>\n",
       "      <td>209.487500</td>\n",
       "      <td>6.000000</td>\n",
       "      <td>6.000000</td>\n",
       "      <td>200.000000</td>\n",
       "      <td>0.000000</td>\n",
       "    </tr>\n",
       "    <tr>\n",
       "      <th>50%</th>\n",
       "      <td>10.000000</td>\n",
       "      <td>34.000000</td>\n",
       "      <td>15.980000</td>\n",
       "      <td>5.000000</td>\n",
       "      <td>33.950000</td>\n",
       "      <td>5.000000</td>\n",
       "      <td>849.000000</td>\n",
       "      <td>300.000000</td>\n",
       "      <td>10.000000</td>\n",
       "      <td>11.000000</td>\n",
       "      <td>250.000000</td>\n",
       "      <td>0.000000</td>\n",
       "    </tr>\n",
       "    <tr>\n",
       "      <th>75%</th>\n",
       "      <td>10.000000</td>\n",
       "      <td>40.000000</td>\n",
       "      <td>19.950000</td>\n",
       "      <td>8.000000</td>\n",
       "      <td>75.700000</td>\n",
       "      <td>22.000000</td>\n",
       "      <td>1199.000000</td>\n",
       "      <td>500.000000</td>\n",
       "      <td>12.000000</td>\n",
       "      <td>16.000000</td>\n",
       "      <td>500.000000</td>\n",
       "      <td>1.000000</td>\n",
       "    </tr>\n",
       "    <tr>\n",
       "      <th>max</th>\n",
       "      <td>10.000000</td>\n",
       "      <td>75.000000</td>\n",
       "      <td>62.080000</td>\n",
       "      <td>15.000000</td>\n",
       "      <td>800.000000</td>\n",
       "      <td>60.000000</td>\n",
       "      <td>4380.000000</td>\n",
       "      <td>1250.000000</td>\n",
       "      <td>15.000000</td>\n",
       "      <td>48.000000</td>\n",
       "      <td>1000.000000</td>\n",
       "      <td>1.000000</td>\n",
       "    </tr>\n",
       "  </tbody>\n",
       "</table>\n",
       "</div>"
      ],
      "text/plain": [
       "                x1           x3           x5           x6           x7  \\\n",
       "count  8620.000000  8620.000000  8620.000000  8620.000000  8620.000000   \n",
       "mean      8.674594    35.962993    17.289042     5.025870    56.953290   \n",
       "std       2.416880     9.381556     4.629677     3.506962    61.449011   \n",
       "min       1.000000    20.000000     6.980000     0.000000     3.000000   \n",
       "25%       8.000000    29.000000    13.960000     2.000000    15.450000   \n",
       "50%      10.000000    34.000000    15.980000     5.000000    33.950000   \n",
       "75%      10.000000    40.000000    19.950000     8.000000    75.700000   \n",
       "max      10.000000    75.000000    62.080000    15.000000   800.000000   \n",
       "\n",
       "                x8           x9          x11          x12          x13  \\\n",
       "count  8620.000000  8620.000000  8620.000000  8620.000000  8620.000000   \n",
       "mean     10.865081   957.777030   345.323788     9.107425    12.598724   \n",
       "std      11.492276   519.560806   175.495870     4.065774     8.750456   \n",
       "min       0.000000   280.000000     0.000000     0.000000     1.000000   \n",
       "25%       1.000000   580.000000   209.487500     6.000000     6.000000   \n",
       "50%       5.000000   849.000000   300.000000    10.000000    11.000000   \n",
       "75%      22.000000  1199.000000   500.000000    12.000000    16.000000   \n",
       "max      60.000000  4380.000000  1250.000000    15.000000    48.000000   \n",
       "\n",
       "               x14     Purchase  \n",
       "count  8084.000000  8620.000000  \n",
       "mean    331.438644     0.419954  \n",
       "std     233.765832     0.493580  \n",
       "min       0.000000     0.000000  \n",
       "25%     200.000000     0.000000  \n",
       "50%     250.000000     0.000000  \n",
       "75%     500.000000     1.000000  \n",
       "max    1000.000000     1.000000  "
      ]
     },
     "execution_count": 11,
     "metadata": {},
     "output_type": "execute_result"
    }
   ],
   "source": [
    "# check the statistics for the numerical values\n",
    "balanced_data.describe()"
   ]
  },
  {
   "cell_type": "markdown",
   "metadata": {},
   "source": [
    "From the above cell I can observe that feature x2,x4,x10 and x15 contains some non numeric/categorical values.\n",
    "\n",
    "Let's confirm all the unique values from these features"
   ]
  },
  {
   "cell_type": "code",
   "execution_count": 12,
   "metadata": {
    "scrolled": true
   },
   "outputs": [
    {
     "data": {
      "text/plain": [
       "array(['18', '17', '20', '22', '15', '16', '21', '19', '24', '23', '26',\n",
       "       '25', '30', 'Unknown', '14', '29', '31'], dtype=object)"
      ]
     },
     "execution_count": 12,
     "metadata": {},
     "output_type": "execute_result"
    }
   ],
   "source": [
    "balanced_data['x2'].unique()\n",
    "\n",
    "# here I can see there are some missing values named as 'Unknown'"
   ]
  },
  {
   "cell_type": "code",
   "execution_count": 13,
   "metadata": {
    "scrolled": true
   },
   "outputs": [
    {
     "data": {
      "text/plain": [
       "array(['J', 'E', 'K', 'H', 'A', 'I', 'G', 'C', 'D', 'B', 'F', nan], dtype=object)"
      ]
     },
     "execution_count": 13,
     "metadata": {},
     "output_type": "execute_result"
    }
   ],
   "source": [
    "balanced_data['x4'].unique() \n",
    "\n",
    "# Here I can see we have nan values in these feature"
   ]
  },
  {
   "cell_type": "code",
   "execution_count": 14,
   "metadata": {},
   "outputs": [
    {
     "data": {
      "text/plain": [
       "array(['U', '14', '6', '10', '5', '0', '1', '12', '4', '7', '3', '8', '2',\n",
       "       '9', '13', '11'], dtype=object)"
      ]
     },
     "execution_count": 14,
     "metadata": {},
     "output_type": "execute_result"
    }
   ],
   "source": [
    "balanced_data['x10'].unique()\n",
    "\n",
    "# here I can see there are some missing values named as 'U'"
   ]
  },
  {
   "cell_type": "code",
   "execution_count": 15,
   "metadata": {},
   "outputs": [
    {
     "data": {
      "text/plain": [
       "array(['A', 'B'], dtype=object)"
      ]
     },
     "execution_count": 15,
     "metadata": {},
     "output_type": "execute_result"
    }
   ],
   "source": [
    "balanced_data['x15'].unique()\n",
    "\n",
    "# here I can see this feature has categorical values"
   ]
  },
  {
   "cell_type": "code",
   "execution_count": 16,
   "metadata": {
    "scrolled": true
   },
   "outputs": [
    {
     "data": {
      "text/plain": [
       "x1            0\n",
       "x2            0\n",
       "x3            0\n",
       "x4           21\n",
       "x5            0\n",
       "x6            0\n",
       "x7            0\n",
       "x8            0\n",
       "x9            0\n",
       "x10           0\n",
       "x11           0\n",
       "x12           0\n",
       "x13           0\n",
       "x14         536\n",
       "x15           0\n",
       "Purchase      0\n",
       "dtype: int64"
      ]
     },
     "execution_count": 16,
     "metadata": {},
     "output_type": "execute_result"
    }
   ],
   "source": [
    "# check how many null values are present in our dataframe\n",
    "\n",
    "balanced_data.isnull().sum()"
   ]
  },
  {
   "cell_type": "markdown",
   "metadata": {},
   "source": [
    "<b> Except these Null values from the above result, there are some other missing values that are designated using other strings like 'U' or 'Unknown' as found from the above cells. Let's replace all these values and bring them to null values using Numpy package built-in function 'np.NaN'"
   ]
  },
  {
   "cell_type": "code",
   "execution_count": 17,
   "metadata": {},
   "outputs": [
    {
     "data": {
      "text/plain": [
       "x1             0\n",
       "x2            38\n",
       "x3             0\n",
       "x4            21\n",
       "x5             0\n",
       "x6             0\n",
       "x7             0\n",
       "x8             0\n",
       "x9             0\n",
       "x10         3526\n",
       "x11            0\n",
       "x12            0\n",
       "x13            0\n",
       "x14          536\n",
       "x15            0\n",
       "Purchase       0\n",
       "dtype: int64"
      ]
     },
     "execution_count": 17,
     "metadata": {},
     "output_type": "execute_result"
    }
   ],
   "source": [
    "balanced_data = balanced_data.replace('U',np.NaN)\n",
    "balanced_data = balanced_data.replace('Unknown',np.NaN)\n",
    "balanced_data.isnull().sum()"
   ]
  },
  {
   "cell_type": "markdown",
   "metadata": {},
   "source": [
    "### Observations from above:\n",
    "\n",
    "- We can see that out of total 8620 records the feature x2,x10,x14 (numeric variables) have missing values.\n",
    "\n",
    "- Even the feature x4 (categorical feature) also have missing values.\n",
    "\n",
    "- It is important to treat these missing values because these missing values can affect power of model and may lead to biased model and also result false/wrong predictions or classification. \n",
    "\n",
    "- In this case , we can choose either doing data imputation or dropping the missing value records or dropping the whole feature.\n",
    "\n",
    "- For x2 and x4 , I will drop these NA values as they are in very less numbers and they wont affect the amount of data.\n",
    "\n",
    "- For x10 and x14 I will replace the NA values using data imputation i.e replacing them with respective mean/median/mode of that specific columns because removing them can cause decrease in amount of data.\n"
   ]
  },
  {
   "cell_type": "code",
   "execution_count": 18,
   "metadata": {},
   "outputs": [
    {
     "data": {
      "text/plain": [
       "x1             0\n",
       "x2             0\n",
       "x3             0\n",
       "x4             0\n",
       "x5             0\n",
       "x6             0\n",
       "x7             0\n",
       "x8             0\n",
       "x9             0\n",
       "x10         3496\n",
       "x11            0\n",
       "x12            0\n",
       "x13            0\n",
       "x14          488\n",
       "x15            0\n",
       "Purchase       0\n",
       "dtype: int64"
      ]
     },
     "execution_count": 18,
     "metadata": {},
     "output_type": "execute_result"
    }
   ],
   "source": [
    "# dropping NA values from x4 and x2 features\n",
    "\n",
    "balanced_data =  balanced_data.dropna(subset=['x4','x2'])\n",
    "balanced_data.reset_index()\n",
    "balanced_data.isnull().sum()"
   ]
  },
  {
   "cell_type": "code",
   "execution_count": 19,
   "metadata": {
    "collapsed": true
   },
   "outputs": [],
   "source": [
    "# Below filling of missing values can be done in multiple ways of data imputation as discussed\n",
    "\n",
    "# lets replace x10 feature by finding the median of its column values\n",
    "balanced_data['x10'] = balanced_data['x10'].fillna((balanced_data['x10'].median()))\n",
    "\n",
    "# lets replace x14 feature by finding the mean of its column values\n",
    "balanced_data['x14'] = balanced_data['x14'].fillna((balanced_data['x14'].mean()))\n",
    "\n"
   ]
  },
  {
   "cell_type": "code",
   "execution_count": 20,
   "metadata": {
    "collapsed": true
   },
   "outputs": [],
   "source": [
    "# I will transfer all the above pre-processed data to a new dataframe for further processing\n",
    "\n",
    "new_balanced_data=balanced_data"
   ]
  },
  {
   "cell_type": "code",
   "execution_count": 21,
   "metadata": {},
   "outputs": [
    {
     "data": {
      "text/plain": [
       "x1          0\n",
       "x2          0\n",
       "x3          0\n",
       "x4          0\n",
       "x5          0\n",
       "x6          0\n",
       "x7          0\n",
       "x8          0\n",
       "x9          0\n",
       "x10         0\n",
       "x11         0\n",
       "x12         0\n",
       "x13         0\n",
       "x14         0\n",
       "x15         0\n",
       "Purchase    0\n",
       "dtype: int64"
      ]
     },
     "execution_count": 21,
     "metadata": {},
     "output_type": "execute_result"
    }
   ],
   "source": [
    "# Lets check again if we have no null/NA values left in our data\n",
    "new_balanced_data.isnull().sum()"
   ]
  },
  {
   "cell_type": "code",
   "execution_count": 22,
   "metadata": {},
   "outputs": [
    {
     "data": {
      "text/html": [
       "<div>\n",
       "<style scoped>\n",
       "    .dataframe tbody tr th:only-of-type {\n",
       "        vertical-align: middle;\n",
       "    }\n",
       "\n",
       "    .dataframe tbody tr th {\n",
       "        vertical-align: top;\n",
       "    }\n",
       "\n",
       "    .dataframe thead th {\n",
       "        text-align: right;\n",
       "    }\n",
       "</style>\n",
       "<table border=\"1\" class=\"dataframe\">\n",
       "  <thead>\n",
       "    <tr style=\"text-align: right;\">\n",
       "      <th></th>\n",
       "      <th>x1</th>\n",
       "      <th>x2</th>\n",
       "      <th>x3</th>\n",
       "      <th>x4</th>\n",
       "      <th>x5</th>\n",
       "      <th>x6</th>\n",
       "      <th>x7</th>\n",
       "      <th>x8</th>\n",
       "      <th>x9</th>\n",
       "      <th>x10</th>\n",
       "      <th>x11</th>\n",
       "      <th>x12</th>\n",
       "      <th>x13</th>\n",
       "      <th>x14</th>\n",
       "      <th>x15</th>\n",
       "      <th>Purchase</th>\n",
       "    </tr>\n",
       "  </thead>\n",
       "  <tbody>\n",
       "    <tr>\n",
       "      <th>0</th>\n",
       "      <td>2</td>\n",
       "      <td>18</td>\n",
       "      <td>49</td>\n",
       "      <td>J</td>\n",
       "      <td>13.89</td>\n",
       "      <td>9</td>\n",
       "      <td>8.45</td>\n",
       "      <td>1</td>\n",
       "      <td>1231</td>\n",
       "      <td>9</td>\n",
       "      <td>250.0</td>\n",
       "      <td>14</td>\n",
       "      <td>5</td>\n",
       "      <td>250.0</td>\n",
       "      <td>A</td>\n",
       "      <td>1</td>\n",
       "    </tr>\n",
       "    <tr>\n",
       "      <th>1</th>\n",
       "      <td>3</td>\n",
       "      <td>18</td>\n",
       "      <td>27</td>\n",
       "      <td>J</td>\n",
       "      <td>14.22</td>\n",
       "      <td>7</td>\n",
       "      <td>23.45</td>\n",
       "      <td>4</td>\n",
       "      <td>832</td>\n",
       "      <td>9</td>\n",
       "      <td>250.0</td>\n",
       "      <td>10</td>\n",
       "      <td>5</td>\n",
       "      <td>500.0</td>\n",
       "      <td>B</td>\n",
       "      <td>1</td>\n",
       "    </tr>\n",
       "    <tr>\n",
       "      <th>2</th>\n",
       "      <td>3</td>\n",
       "      <td>18</td>\n",
       "      <td>27</td>\n",
       "      <td>J</td>\n",
       "      <td>14.22</td>\n",
       "      <td>7</td>\n",
       "      <td>23.45</td>\n",
       "      <td>4</td>\n",
       "      <td>1005</td>\n",
       "      <td>9</td>\n",
       "      <td>250.0</td>\n",
       "      <td>10</td>\n",
       "      <td>5</td>\n",
       "      <td>500.0</td>\n",
       "      <td>B</td>\n",
       "      <td>1</td>\n",
       "    </tr>\n",
       "    <tr>\n",
       "      <th>3</th>\n",
       "      <td>1</td>\n",
       "      <td>17</td>\n",
       "      <td>35</td>\n",
       "      <td>E</td>\n",
       "      <td>19.10</td>\n",
       "      <td>9</td>\n",
       "      <td>13.95</td>\n",
       "      <td>1</td>\n",
       "      <td>1328</td>\n",
       "      <td>14</td>\n",
       "      <td>225.0</td>\n",
       "      <td>14</td>\n",
       "      <td>9</td>\n",
       "      <td>600.0</td>\n",
       "      <td>B</td>\n",
       "      <td>1</td>\n",
       "    </tr>\n",
       "    <tr>\n",
       "      <th>4</th>\n",
       "      <td>2</td>\n",
       "      <td>18</td>\n",
       "      <td>33</td>\n",
       "      <td>K</td>\n",
       "      <td>15.98</td>\n",
       "      <td>4</td>\n",
       "      <td>7.00</td>\n",
       "      <td>1</td>\n",
       "      <td>1229</td>\n",
       "      <td>9</td>\n",
       "      <td>200.0</td>\n",
       "      <td>12</td>\n",
       "      <td>6</td>\n",
       "      <td>0.0</td>\n",
       "      <td>A</td>\n",
       "      <td>1</td>\n",
       "    </tr>\n",
       "  </tbody>\n",
       "</table>\n",
       "</div>"
      ],
      "text/plain": [
       "   x1  x2  x3 x4     x5  x6     x7  x8    x9 x10    x11  x12  x13    x14 x15  \\\n",
       "0   2  18  49  J  13.89   9   8.45   1  1231   9  250.0   14    5  250.0   A   \n",
       "1   3  18  27  J  14.22   7  23.45   4   832   9  250.0   10    5  500.0   B   \n",
       "2   3  18  27  J  14.22   7  23.45   4  1005   9  250.0   10    5  500.0   B   \n",
       "3   1  17  35  E  19.10   9  13.95   1  1328  14  225.0   14    9  600.0   B   \n",
       "4   2  18  33  K  15.98   4   7.00   1  1229   9  200.0   12    6    0.0   A   \n",
       "\n",
       "   Purchase  \n",
       "0         1  \n",
       "1         1  \n",
       "2         1  \n",
       "3         1  \n",
       "4         1  "
      ]
     },
     "execution_count": 22,
     "metadata": {},
     "output_type": "execute_result"
    }
   ],
   "source": [
    "new_balanced_data.head()"
   ]
  },
  {
   "cell_type": "markdown",
   "metadata": {},
   "source": [
    "#### That is great, looks like I dont have any null values, so I will proceed for converting categorial values to numerical using LabelEncoder\n",
    "\n",
    "Note: This is a optional step just to bring all of our data into single representation. However, it is also possible to proceed with mixed type data. I would like to continue with single representation as I believe I will get good results."
   ]
  },
  {
   "cell_type": "code",
   "execution_count": 23,
   "metadata": {
    "collapsed": true
   },
   "outputs": [],
   "source": [
    "from sklearn import preprocessing\n",
    "from sklearn.preprocessing import LabelEncoder\n",
    "\n",
    "\n",
    "SKLPP = preprocessing.LabelEncoder()\n",
    "#THEN COVERTING SPECIFIC CATEGORIAL COLUMNS TO VALUES\n",
    "new_balanced_data.x4 = SKLPP.fit_transform(new_balanced_data.x4)\n",
    "new_balanced_data.x15 = SKLPP.fit_transform(new_balanced_data.x15)"
   ]
  },
  {
   "cell_type": "code",
   "execution_count": 24,
   "metadata": {},
   "outputs": [
    {
     "data": {
      "text/html": [
       "<div>\n",
       "<style scoped>\n",
       "    .dataframe tbody tr th:only-of-type {\n",
       "        vertical-align: middle;\n",
       "    }\n",
       "\n",
       "    .dataframe tbody tr th {\n",
       "        vertical-align: top;\n",
       "    }\n",
       "\n",
       "    .dataframe thead th {\n",
       "        text-align: right;\n",
       "    }\n",
       "</style>\n",
       "<table border=\"1\" class=\"dataframe\">\n",
       "  <thead>\n",
       "    <tr style=\"text-align: right;\">\n",
       "      <th></th>\n",
       "      <th>x1</th>\n",
       "      <th>x2</th>\n",
       "      <th>x3</th>\n",
       "      <th>x4</th>\n",
       "      <th>x5</th>\n",
       "      <th>x6</th>\n",
       "      <th>x7</th>\n",
       "      <th>x8</th>\n",
       "      <th>x9</th>\n",
       "      <th>x10</th>\n",
       "      <th>x11</th>\n",
       "      <th>x12</th>\n",
       "      <th>x13</th>\n",
       "      <th>x14</th>\n",
       "      <th>x15</th>\n",
       "      <th>Purchase</th>\n",
       "    </tr>\n",
       "  </thead>\n",
       "  <tbody>\n",
       "    <tr>\n",
       "      <th>0</th>\n",
       "      <td>2</td>\n",
       "      <td>18</td>\n",
       "      <td>49</td>\n",
       "      <td>9</td>\n",
       "      <td>13.89</td>\n",
       "      <td>9</td>\n",
       "      <td>8.45</td>\n",
       "      <td>1</td>\n",
       "      <td>1231</td>\n",
       "      <td>9</td>\n",
       "      <td>250.0</td>\n",
       "      <td>14</td>\n",
       "      <td>5</td>\n",
       "      <td>250.0</td>\n",
       "      <td>0</td>\n",
       "      <td>1</td>\n",
       "    </tr>\n",
       "    <tr>\n",
       "      <th>1</th>\n",
       "      <td>3</td>\n",
       "      <td>18</td>\n",
       "      <td>27</td>\n",
       "      <td>9</td>\n",
       "      <td>14.22</td>\n",
       "      <td>7</td>\n",
       "      <td>23.45</td>\n",
       "      <td>4</td>\n",
       "      <td>832</td>\n",
       "      <td>9</td>\n",
       "      <td>250.0</td>\n",
       "      <td>10</td>\n",
       "      <td>5</td>\n",
       "      <td>500.0</td>\n",
       "      <td>1</td>\n",
       "      <td>1</td>\n",
       "    </tr>\n",
       "    <tr>\n",
       "      <th>2</th>\n",
       "      <td>3</td>\n",
       "      <td>18</td>\n",
       "      <td>27</td>\n",
       "      <td>9</td>\n",
       "      <td>14.22</td>\n",
       "      <td>7</td>\n",
       "      <td>23.45</td>\n",
       "      <td>4</td>\n",
       "      <td>1005</td>\n",
       "      <td>9</td>\n",
       "      <td>250.0</td>\n",
       "      <td>10</td>\n",
       "      <td>5</td>\n",
       "      <td>500.0</td>\n",
       "      <td>1</td>\n",
       "      <td>1</td>\n",
       "    </tr>\n",
       "    <tr>\n",
       "      <th>3</th>\n",
       "      <td>1</td>\n",
       "      <td>17</td>\n",
       "      <td>35</td>\n",
       "      <td>4</td>\n",
       "      <td>19.10</td>\n",
       "      <td>9</td>\n",
       "      <td>13.95</td>\n",
       "      <td>1</td>\n",
       "      <td>1328</td>\n",
       "      <td>14</td>\n",
       "      <td>225.0</td>\n",
       "      <td>14</td>\n",
       "      <td>9</td>\n",
       "      <td>600.0</td>\n",
       "      <td>1</td>\n",
       "      <td>1</td>\n",
       "    </tr>\n",
       "    <tr>\n",
       "      <th>4</th>\n",
       "      <td>2</td>\n",
       "      <td>18</td>\n",
       "      <td>33</td>\n",
       "      <td>10</td>\n",
       "      <td>15.98</td>\n",
       "      <td>4</td>\n",
       "      <td>7.00</td>\n",
       "      <td>1</td>\n",
       "      <td>1229</td>\n",
       "      <td>9</td>\n",
       "      <td>200.0</td>\n",
       "      <td>12</td>\n",
       "      <td>6</td>\n",
       "      <td>0.0</td>\n",
       "      <td>0</td>\n",
       "      <td>1</td>\n",
       "    </tr>\n",
       "  </tbody>\n",
       "</table>\n",
       "</div>"
      ],
      "text/plain": [
       "   x1  x2  x3  x4     x5  x6     x7  x8    x9 x10    x11  x12  x13    x14  \\\n",
       "0   2  18  49   9  13.89   9   8.45   1  1231   9  250.0   14    5  250.0   \n",
       "1   3  18  27   9  14.22   7  23.45   4   832   9  250.0   10    5  500.0   \n",
       "2   3  18  27   9  14.22   7  23.45   4  1005   9  250.0   10    5  500.0   \n",
       "3   1  17  35   4  19.10   9  13.95   1  1328  14  225.0   14    9  600.0   \n",
       "4   2  18  33  10  15.98   4   7.00   1  1229   9  200.0   12    6    0.0   \n",
       "\n",
       "   x15  Purchase  \n",
       "0    0         1  \n",
       "1    1         1  \n",
       "2    1         1  \n",
       "3    1         1  \n",
       "4    0         1  "
      ]
     },
     "execution_count": 24,
     "metadata": {},
     "output_type": "execute_result"
    }
   ],
   "source": [
    "new_balanced_data.head()"
   ]
  },
  {
   "cell_type": "markdown",
   "metadata": {},
   "source": [
    "## Perform Train-Test Split\n",
    "\n",
    "#### So now, I am all set for training the model, a final step before that is splitting the data in to training and testing datasets\n",
    "\n",
    "#### As per standard procedure I will follow a Simple Hold-Out Strategy using 80-20 split, where 80% data is assigned to training sample and 20% to testing and evaluation. \n",
    "\n",
    " - <b>There are other methods like using  Cross Validation, Leave-One-Out or Three-way-hold-out strategy. It necessarily depends on the requirements and the type of data we have. In order to evaluate your model effectively, trial to all these strategies should be given and checked which is perfectly suitable to your data.\n"
   ]
  },
  {
   "cell_type": "code",
   "execution_count": 25,
   "metadata": {},
   "outputs": [
    {
     "data": {
      "text/html": [
       "<div>\n",
       "<style scoped>\n",
       "    .dataframe tbody tr th:only-of-type {\n",
       "        vertical-align: middle;\n",
       "    }\n",
       "\n",
       "    .dataframe tbody tr th {\n",
       "        vertical-align: top;\n",
       "    }\n",
       "\n",
       "    .dataframe thead th {\n",
       "        text-align: right;\n",
       "    }\n",
       "</style>\n",
       "<table border=\"1\" class=\"dataframe\">\n",
       "  <thead>\n",
       "    <tr style=\"text-align: right;\">\n",
       "      <th></th>\n",
       "      <th>x1</th>\n",
       "      <th>x2</th>\n",
       "      <th>x3</th>\n",
       "      <th>x4</th>\n",
       "      <th>x5</th>\n",
       "      <th>x6</th>\n",
       "      <th>x7</th>\n",
       "      <th>x8</th>\n",
       "      <th>x9</th>\n",
       "      <th>x10</th>\n",
       "      <th>x11</th>\n",
       "      <th>x12</th>\n",
       "      <th>x13</th>\n",
       "      <th>x14</th>\n",
       "      <th>x15</th>\n",
       "    </tr>\n",
       "  </thead>\n",
       "  <tbody>\n",
       "    <tr>\n",
       "      <th>0</th>\n",
       "      <td>2</td>\n",
       "      <td>18</td>\n",
       "      <td>49</td>\n",
       "      <td>9</td>\n",
       "      <td>13.89</td>\n",
       "      <td>9</td>\n",
       "      <td>8.45</td>\n",
       "      <td>1</td>\n",
       "      <td>1231</td>\n",
       "      <td>9</td>\n",
       "      <td>250.0</td>\n",
       "      <td>14</td>\n",
       "      <td>5</td>\n",
       "      <td>250.0</td>\n",
       "      <td>0</td>\n",
       "    </tr>\n",
       "    <tr>\n",
       "      <th>1</th>\n",
       "      <td>3</td>\n",
       "      <td>18</td>\n",
       "      <td>27</td>\n",
       "      <td>9</td>\n",
       "      <td>14.22</td>\n",
       "      <td>7</td>\n",
       "      <td>23.45</td>\n",
       "      <td>4</td>\n",
       "      <td>832</td>\n",
       "      <td>9</td>\n",
       "      <td>250.0</td>\n",
       "      <td>10</td>\n",
       "      <td>5</td>\n",
       "      <td>500.0</td>\n",
       "      <td>1</td>\n",
       "    </tr>\n",
       "    <tr>\n",
       "      <th>2</th>\n",
       "      <td>3</td>\n",
       "      <td>18</td>\n",
       "      <td>27</td>\n",
       "      <td>9</td>\n",
       "      <td>14.22</td>\n",
       "      <td>7</td>\n",
       "      <td>23.45</td>\n",
       "      <td>4</td>\n",
       "      <td>1005</td>\n",
       "      <td>9</td>\n",
       "      <td>250.0</td>\n",
       "      <td>10</td>\n",
       "      <td>5</td>\n",
       "      <td>500.0</td>\n",
       "      <td>1</td>\n",
       "    </tr>\n",
       "    <tr>\n",
       "      <th>3</th>\n",
       "      <td>1</td>\n",
       "      <td>17</td>\n",
       "      <td>35</td>\n",
       "      <td>4</td>\n",
       "      <td>19.10</td>\n",
       "      <td>9</td>\n",
       "      <td>13.95</td>\n",
       "      <td>1</td>\n",
       "      <td>1328</td>\n",
       "      <td>14</td>\n",
       "      <td>225.0</td>\n",
       "      <td>14</td>\n",
       "      <td>9</td>\n",
       "      <td>600.0</td>\n",
       "      <td>1</td>\n",
       "    </tr>\n",
       "    <tr>\n",
       "      <th>4</th>\n",
       "      <td>2</td>\n",
       "      <td>18</td>\n",
       "      <td>33</td>\n",
       "      <td>10</td>\n",
       "      <td>15.98</td>\n",
       "      <td>4</td>\n",
       "      <td>7.00</td>\n",
       "      <td>1</td>\n",
       "      <td>1229</td>\n",
       "      <td>9</td>\n",
       "      <td>200.0</td>\n",
       "      <td>12</td>\n",
       "      <td>6</td>\n",
       "      <td>0.0</td>\n",
       "      <td>0</td>\n",
       "    </tr>\n",
       "  </tbody>\n",
       "</table>\n",
       "</div>"
      ],
      "text/plain": [
       "   x1  x2  x3  x4     x5  x6     x7  x8    x9 x10    x11  x12  x13    x14  x15\n",
       "0   2  18  49   9  13.89   9   8.45   1  1231   9  250.0   14    5  250.0    0\n",
       "1   3  18  27   9  14.22   7  23.45   4   832   9  250.0   10    5  500.0    1\n",
       "2   3  18  27   9  14.22   7  23.45   4  1005   9  250.0   10    5  500.0    1\n",
       "3   1  17  35   4  19.10   9  13.95   1  1328  14  225.0   14    9  600.0    1\n",
       "4   2  18  33  10  15.98   4   7.00   1  1229   9  200.0   12    6    0.0    0"
      ]
     },
     "execution_count": 25,
     "metadata": {},
     "output_type": "execute_result"
    }
   ],
   "source": [
    "# I need to consider first 15 columns which are my features, as X\n",
    "\n",
    "X= new_balanced_data.iloc[:,0:15]\n",
    "X.head()"
   ]
  },
  {
   "cell_type": "code",
   "execution_count": 26,
   "metadata": {},
   "outputs": [
    {
     "data": {
      "text/plain": [
       "0    1\n",
       "1    1\n",
       "2    1\n",
       "3    1\n",
       "4    1\n",
       "Name: Purchase, dtype: int64"
      ]
     },
     "execution_count": 26,
     "metadata": {},
     "output_type": "execute_result"
    }
   ],
   "source": [
    "# The last column is my target label, and hence I am putting it in Y\n",
    "\n",
    "Y = new_balanced_data.iloc[:,15]\n",
    "Y.head()"
   ]
  },
  {
   "cell_type": "code",
   "execution_count": 27,
   "metadata": {
    "collapsed": true
   },
   "outputs": [],
   "source": [
    "from sklearn.model_selection import train_test_split\n",
    "\n",
    "x_train, x_test, y_train, y_test = train_test_split(X, Y, test_size=0.2, random_state=0)\n"
   ]
  },
  {
   "cell_type": "markdown",
   "metadata": {},
   "source": [
    "Let me verify the shape of my training data"
   ]
  },
  {
   "cell_type": "code",
   "execution_count": 28,
   "metadata": {},
   "outputs": [
    {
     "data": {
      "text/plain": [
       "((6850, 15), (6850,))"
      ]
     },
     "execution_count": 28,
     "metadata": {},
     "output_type": "execute_result"
    }
   ],
   "source": [
    "x_train.shape, y_train.shape\n"
   ]
  },
  {
   "cell_type": "markdown",
   "metadata": {},
   "source": [
    "and test data"
   ]
  },
  {
   "cell_type": "code",
   "execution_count": 29,
   "metadata": {},
   "outputs": [
    {
     "data": {
      "text/plain": [
       "((1713, 15), (1713,))"
      ]
     },
     "execution_count": 29,
     "metadata": {},
     "output_type": "execute_result"
    }
   ],
   "source": [
    "x_test.shape, y_test.shape\n"
   ]
  },
  {
   "cell_type": "markdown",
   "metadata": {},
   "source": [
    "## Machine Learning Algorithm training\n",
    "\n",
    "The most important task here is to decide, which algorithm is right for our need, there is no such algorithm which we can call as best. As every algorithm is best in different situation.\n",
    "\n",
    "Given a Supervised Situation, where I need to run a Classification model, several algorithms come to my mind,\n",
    "\n",
    "1] Decision tree\n",
    "\n",
    "2] Logistic Regression\n",
    "\n",
    "3] Random Forest\n",
    "\n",
    "4] Support Vector Machine\n",
    "\n",
    "5] K-Nearest Neighbour\n",
    "\n",
    "6] Neural Networks\n",
    "\n",
    "7] Naive Bayes etc.\n",
    "\n",
    "<b> The best way to decide which algorithm performs best in our case is to run all of these algorithms and select one with highest accuracy. However, I would short list a few which I feel will perform great or which wont. As the data I have is full with numeric values, I feel Logistic Regression, Random Forest, Decision Tree and SVM  would suit more.</b>\n",
    "\n",
    "- As Logistic Regression performs binary classification, It takes linear combination of features and applies non-linear function (sigmoid) to it, so it’s a very small instance of neural network.\n",
    "\n",
    "\n",
    "- Random Forest is an Ensemble model approach of Decision Trees and it is highly scalable and generally used in real worl applications\n",
    "\n",
    "\n",
    "- As Decision Trees are used in Random Forest, I would like to give a try using Decision Trees,\n",
    "\n",
    "\n",
    "- SVM are good on binary target labels, so I will give a try using it\n",
    "\n",
    "\n",
    "- Neural Network always are great to learn at granular level and outperform most generic algorithms however they need huge training data with high diversity. As our training data was looking a bit baised towards '0' class, I performed Random Sampeling and hence the amount of data was reduced according to '1' class label. I feel it wont be ideal to use neural network. \n",
    "\n",
    "\n",
    "- Naive Bayes on the other hand works good if we have categorical variables, where in this data I was not having much and hence converted the available categorical features to numeric feature values.\n",
    "\n",
    "Let us try all this different algos,"
   ]
  },
  {
   "cell_type": "markdown",
   "metadata": {},
   "source": [
    "## Logistic Regression"
   ]
  },
  {
   "cell_type": "code",
   "execution_count": 30,
   "metadata": {},
   "outputs": [
    {
     "data": {
      "text/plain": [
       "LogisticRegression(C=1.0, class_weight=None, dual=False, fit_intercept=True,\n",
       "          intercept_scaling=1, max_iter=100, multi_class='ovr', n_jobs=1,\n",
       "          penalty='l2', random_state=None, solver='liblinear', tol=0.0001,\n",
       "          verbose=0, warm_start=False)"
      ]
     },
     "execution_count": 30,
     "metadata": {},
     "output_type": "execute_result"
    }
   ],
   "source": [
    "from sklearn.linear_model import LogisticRegression\n",
    "model=LogisticRegression()\n",
    "model.fit(x_train, y_train)"
   ]
  },
  {
   "cell_type": "markdown",
   "metadata": {},
   "source": [
    "### Predict on test data"
   ]
  },
  {
   "cell_type": "code",
   "execution_count": 31,
   "metadata": {
    "collapsed": true
   },
   "outputs": [],
   "source": [
    "pred=model.predict(x_test)\n"
   ]
  },
  {
   "cell_type": "markdown",
   "metadata": {},
   "source": [
    "### Evaluate on test data"
   ]
  },
  {
   "cell_type": "code",
   "execution_count": 32,
   "metadata": {},
   "outputs": [
    {
     "name": "stdout",
     "output_type": "stream",
     "text": [
      "Accuracy 0.766491535318\n",
      "             precision    recall  f1-score   support\n",
      "\n",
      "          0       0.79      0.83      0.81      1005\n",
      "          1       0.74      0.68      0.71       708\n",
      "\n",
      "avg / total       0.76      0.77      0.76      1713\n",
      "\n"
     ]
    }
   ],
   "source": [
    "logistic_accuracy = accuracy_score(y_test, pred)\n",
    "print(\"Accuracy\", logistic_accuracy)\n",
    "print(classification_report(y_test,pred))"
   ]
  },
  {
   "cell_type": "markdown",
   "metadata": {},
   "source": [
    "## Random Forest"
   ]
  },
  {
   "cell_type": "code",
   "execution_count": 33,
   "metadata": {},
   "outputs": [
    {
     "data": {
      "text/plain": [
       "RandomForestClassifier(bootstrap=True, class_weight=None, criterion='gini',\n",
       "            max_depth=None, max_features='auto', max_leaf_nodes=None,\n",
       "            min_impurity_decrease=0.0, min_impurity_split=None,\n",
       "            min_samples_leaf=1, min_samples_split=2,\n",
       "            min_weight_fraction_leaf=0.0, n_estimators=10, n_jobs=1,\n",
       "            oob_score=False, random_state=None, verbose=0,\n",
       "            warm_start=False)"
      ]
     },
     "execution_count": 33,
     "metadata": {},
     "output_type": "execute_result"
    }
   ],
   "source": [
    "from sklearn.ensemble import RandomForestClassifier\n",
    "rfc = RandomForestClassifier()\n",
    "rfc.fit(x_train, y_train)\n"
   ]
  },
  {
   "cell_type": "markdown",
   "metadata": {},
   "source": [
    "### Predict on test data"
   ]
  },
  {
   "cell_type": "code",
   "execution_count": 34,
   "metadata": {
    "collapsed": true
   },
   "outputs": [],
   "source": [
    "pred = rfc.predict(x_test)"
   ]
  },
  {
   "cell_type": "markdown",
   "metadata": {},
   "source": [
    "### Evaluate on test data"
   ]
  },
  {
   "cell_type": "code",
   "execution_count": 35,
   "metadata": {},
   "outputs": [
    {
     "name": "stdout",
     "output_type": "stream",
     "text": [
      "Accuracy 0.832457676591\n",
      "             precision    recall  f1-score   support\n",
      "\n",
      "          0       0.83      0.89      0.86      1005\n",
      "          1       0.83      0.74      0.79       708\n",
      "\n",
      "avg / total       0.83      0.83      0.83      1713\n",
      "\n"
     ]
    }
   ],
   "source": [
    "randomforest_accuracy = accuracy_score(y_test, pred)\n",
    "print(\"Accuracy\",randomforest_accuracy)\n",
    "print(classification_report(y_test,pred))\n"
   ]
  },
  {
   "cell_type": "markdown",
   "metadata": {},
   "source": [
    "## Decision Trees"
   ]
  },
  {
   "cell_type": "code",
   "execution_count": 36,
   "metadata": {},
   "outputs": [
    {
     "data": {
      "text/plain": [
       "DecisionTreeClassifier(class_weight=None, criterion='gini', max_depth=None,\n",
       "            max_features=None, max_leaf_nodes=None,\n",
       "            min_impurity_decrease=0.0, min_impurity_split=None,\n",
       "            min_samples_leaf=1, min_samples_split=2,\n",
       "            min_weight_fraction_leaf=0.0, presort=False, random_state=None,\n",
       "            splitter='best')"
      ]
     },
     "execution_count": 36,
     "metadata": {},
     "output_type": "execute_result"
    }
   ],
   "source": [
    "from sklearn.tree import DecisionTreeClassifier\n",
    "\n",
    "dtc = DecisionTreeClassifier()\n",
    "dtc.fit(x_train, y_train)"
   ]
  },
  {
   "cell_type": "markdown",
   "metadata": {},
   "source": [
    "### Predict on test data"
   ]
  },
  {
   "cell_type": "code",
   "execution_count": 37,
   "metadata": {
    "collapsed": true
   },
   "outputs": [],
   "source": [
    "pred = dtc.predict(x_test)\n"
   ]
  },
  {
   "cell_type": "markdown",
   "metadata": {},
   "source": [
    "### Evaluate on test data"
   ]
  },
  {
   "cell_type": "code",
   "execution_count": 38,
   "metadata": {
    "scrolled": true
   },
   "outputs": [
    {
     "name": "stdout",
     "output_type": "stream",
     "text": [
      "Accuracy 0.769410391127\n",
      "             precision    recall  f1-score   support\n",
      "\n",
      "          0       0.82      0.77      0.80      1005\n",
      "          1       0.70      0.77      0.73       708\n",
      "\n",
      "avg / total       0.77      0.77      0.77      1713\n",
      "\n"
     ]
    }
   ],
   "source": [
    "\n",
    "decisionTree_accuracy = accuracy_score(y_test, pred)\n",
    "print(\"Accuracy\",decisionTree_accuracy)\n",
    "print(classification_report(y_test,pred))"
   ]
  },
  {
   "cell_type": "markdown",
   "metadata": {},
   "source": [
    "## SVM"
   ]
  },
  {
   "cell_type": "code",
   "execution_count": 39,
   "metadata": {},
   "outputs": [
    {
     "data": {
      "text/plain": [
       "SVC(C=1.0, cache_size=200, class_weight=None, coef0=0.0,\n",
       "  decision_function_shape='ovr', degree=3, gamma='auto', kernel='rbf',\n",
       "  max_iter=-1, probability=False, random_state=None, shrinking=True,\n",
       "  tol=0.001, verbose=False)"
      ]
     },
     "execution_count": 39,
     "metadata": {},
     "output_type": "execute_result"
    }
   ],
   "source": [
    "from sklearn.svm import SVC\n",
    "clf = SVC()\n",
    "clf.fit(x_train, y_train)"
   ]
  },
  {
   "cell_type": "markdown",
   "metadata": {},
   "source": [
    "### Predict on test data"
   ]
  },
  {
   "cell_type": "code",
   "execution_count": 40,
   "metadata": {
    "collapsed": true
   },
   "outputs": [],
   "source": [
    "pred = clf.predict(x_test)\n"
   ]
  },
  {
   "cell_type": "markdown",
   "metadata": {},
   "source": [
    "### Evaluate on test data"
   ]
  },
  {
   "cell_type": "code",
   "execution_count": 41,
   "metadata": {},
   "outputs": [
    {
     "name": "stdout",
     "output_type": "stream",
     "text": [
      "Accuracy 0.589608873322\n",
      "             precision    recall  f1-score   support\n",
      "\n",
      "          0       0.59      1.00      0.74      1005\n",
      "          1       1.00      0.01      0.01       708\n",
      "\n",
      "avg / total       0.76      0.59      0.44      1713\n",
      "\n"
     ]
    }
   ],
   "source": [
    "\n",
    "svm_accuracy = accuracy_score(y_test, pred)\n",
    "print(\"Accuracy\",svm_accuracy)\n",
    "print(classification_report(y_test,pred))"
   ]
  },
  {
   "cell_type": "markdown",
   "metadata": {},
   "source": [
    "## K-Nearest Neighbour"
   ]
  },
  {
   "cell_type": "code",
   "execution_count": 42,
   "metadata": {},
   "outputs": [
    {
     "data": {
      "text/plain": [
       "KNeighborsClassifier(algorithm='auto', leaf_size=30, metric='minkowski',\n",
       "           metric_params=None, n_jobs=1, n_neighbors=5, p=2,\n",
       "           weights='uniform')"
      ]
     },
     "execution_count": 42,
     "metadata": {},
     "output_type": "execute_result"
    }
   ],
   "source": [
    "from sklearn.neighbors import KNeighborsClassifier\n",
    "neigh = KNeighborsClassifier(n_neighbors=5)\n",
    "neigh.fit(x_train, y_train) "
   ]
  },
  {
   "cell_type": "markdown",
   "metadata": {},
   "source": [
    "### Predict on test data"
   ]
  },
  {
   "cell_type": "code",
   "execution_count": 43,
   "metadata": {
    "collapsed": true
   },
   "outputs": [],
   "source": [
    "pred = neigh.predict(x_test)\n"
   ]
  },
  {
   "cell_type": "markdown",
   "metadata": {},
   "source": [
    "### Evaluate on test data"
   ]
  },
  {
   "cell_type": "code",
   "execution_count": 44,
   "metadata": {
    "scrolled": true
   },
   "outputs": [
    {
     "name": "stdout",
     "output_type": "stream",
     "text": [
      "Accuracy 0.608289550496\n",
      "             precision    recall  f1-score   support\n",
      "\n",
      "          0       0.66      0.70      0.68      1005\n",
      "          1       0.53      0.48      0.50       708\n",
      "\n",
      "avg / total       0.60      0.61      0.61      1713\n",
      "\n"
     ]
    }
   ],
   "source": [
    "knn_accuracy = accuracy_score(y_test, pred)\n",
    "print(\"Accuracy\",knn_accuracy)\n",
    "print(classification_report(y_test,pred))"
   ]
  },
  {
   "cell_type": "markdown",
   "metadata": {},
   "source": [
    " ## Plotting the Metrics (Accuracy) of different Classifiers"
   ]
  },
  {
   "cell_type": "code",
   "execution_count": 45,
   "metadata": {},
   "outputs": [
    {
     "data": {
      "image/png": "[encoded data removed]",
      "text/plain": [
       "<Figure size 720x360 with 1 Axes>"
      ]
     },
     "metadata": {},
     "output_type": "display_data"
    }
   ],
   "source": [
    "# Set the bar labels\n",
    "bar_labels = ['SVM','Logistic Regression','Random_Forest','Decision Tree','KNN']\n",
    "\n",
    "# Create the x position of the bars and give bar graph parameters\n",
    "N=5\n",
    "x_pos = np.arange(N)\n",
    "\n",
    "# Create the plot bars\n",
    "accuracy_scores=(svm_accuracy,logistic_accuracy,randomforest_accuracy,decisionTree_accuracy,knn_accuracy)\n",
    "\n",
    "#We can plot other performance factors like F1-measures along with Accuracy, therefore we can use subplots.\n",
    "fig, ax =plt.subplots(figsize=(10,5))\n",
    "\n",
    "# Plot a bar graph. \n",
    "plt.bar([p for p in x_pos],# using the data from the mean_values\n",
    "        accuracy_scores, \n",
    "        color='orange'\n",
    "        )\n",
    "\n",
    "# Set the chart's title\n",
    "ax.set_title('Classifier Models Comparison Graph')\n",
    "\n",
    "# set axes labels and title\n",
    "ax.set_ylabel('Accuracy %')\n",
    "ax.set_xticks([p for p in x_pos])\n",
    "ax.set_xticklabels(bar_labels)\n",
    "plt.ylim(0.1,1)\n",
    "plt.legend(['Accuracy Scores'])\n",
    "plt.show()"
   ]
  },
  {
   "cell_type": "markdown",
   "metadata": {
    "collapsed": true
   },
   "source": [
    "## Conclusion:\n",
    "\n",
    "- From the above graph, it can be stated that the Ensemble approach using Random Forest algo is the best suit for this data, as it gives pretty good accuracy for the predictions.\n",
    "\n",
    "- On the other hand, SVM and KNN does not perform well\n",
    "\n",
    "- Logistic Regression and Decision Trees performs on the average level.\n",
    "\n",
    "- So I would suggest of using Random Forest for the predictions for this data."
   ]
  },
  {
   "cell_type": "markdown",
   "metadata": {},
   "source": [
    "### References:\n",
    "   \n",
    "   \n",
    "[1] : https://www.analyticsvidhya.com/blog/2017/03/imbalanced-classification-problem/\n",
    "\n",
    "[2] : https://towardsdatascience.com/how-to-handle-missing-data-8646b18db0d4\n",
    "\n",
    "[3] : https://hackernoon.com/choosing-the-right-machine-learning-algorithm-68126944ce1f?gi=3a33aea7a918"
   ]
  },
  {
   "cell_type": "code",
   "execution_count": null,
   "metadata": {
    "collapsed": true
   },
   "outputs": [],
   "source": []
  }
 ],
 "metadata": {
  "kernelspec": {
   "display_name": "Python 3",
   "language": "python",
   "name": "python3"
  },
  "language_info": {
   "codemirror_mode": {
    "name": "ipython",
    "version": 3
   },
   "file_extension": ".py",
   "mimetype": "text/x-python",
   "name": "python",
   "nbconvert_exporter": "python",
   "pygments_lexer": "ipython3",
   "version": "3.6.6"
  }
 },
 "nbformat": 4,
 "nbformat_minor": 2
}
